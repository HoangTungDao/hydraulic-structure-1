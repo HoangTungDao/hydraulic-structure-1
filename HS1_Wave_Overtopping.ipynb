{
 "cells": [
  {
   "cell_type": "markdown",
   "id": "e50ee366-5e0d-4605-99ad-ff9fae7a9880",
   "metadata": {
    "id": "TXa5Wz7z2ZaF",
    "tags": []
   },
   "source": [
    "# <b id=\"section0\"> Wave Overtopping</b>\n",
    "---\n",
    "[1. Context](#section1) <br>\n",
    "[2. References](#section2) <br>\n",
    "[3. Applicability](#section3) <br>\n",
    "[4. Example](#section4) <br>\n",
    "[5. Results](#section5) <br>"
   ]
  },
  {
   "cell_type": "markdown",
   "id": "7ffae429-1e8c-4a0d-94ef-14a71813dca4",
   "metadata": {},
   "source": [
    "# <b id=\"section1\"> 1. Context</b>"
   ]
  },
  {
   "cell_type": "markdown",
   "id": "67c5dbf9-7c09-428d-97e0-a6a2efe133b7",
   "metadata": {},
   "source": [
    "For the design of slanting structures (a slope or a wall) it is important to know how far a wave can run up the slope, or how much water can go over the structure. In the first place, this depends on the average water level (= highest astronomical tide + storm set-up, or the highest river level during a peak discharge) and in the second place on the height of the waves attacking the structure. <br><br>\n",
    "These phenomena play a role in determining the crest height of flood defences and the top of structure level of other hydraulic structures. The 2%-run-up calculation for the determination of dike heights was used in the Netherlands and Germany until the end of the twentieth century, but has been replaced by the more universal calculation of critical overtopping discharges.<br><br>\n",
    "Overtopping waves can jeopardise a civil engineering work if they cause erosion or softening of the foundations. Wave overtopping can also cause a nuisance for the surroundings. To prevent severe wave\n",
    "overtopping, the design of the structure should therefore include a sufficient freeboard above the design water level. <br><br>\n",
    "For wave overtopping considerations, the wave run-up **R$_n$** simply exceeds the crest height z. The wave overtopping is usually characterised by an overtopping discharge **q** per metre of the water defence, averaged over time. This discharge depends on the wave height, the wave steepness, the slope and the existing freeboard. This concerns overtopping discharges averaged over time. In reality, a far larger discharge can occur for a short time, depending on the percentage of overtopping waves. With the results of several investigations, a global relationship between all of these factors can be derived. <br><br>\n",
    "In general, overtopping discharge over a crest of structure with a slope can be calculated followed EurOtop Manual (2018) as:<br><br>\n",
    "$\\dfrac{q}{\\sqrt{g\\cdot H^3_{m0}}} = \\dfrac{0.026}{\\sqrt{\\tan{(\\alpha)}}}\\cdot \\gamma_b\\cdot \\xi_{m-1,0} \\cdot e^{-\\left[\\dfrac{2.5\\cdot R_c}{H_{m0}\\cdot\\xi_{m-1,0}\\cdot \\gamma_b\\cdot \\gamma_f\\cdot \\gamma_{\\beta}\\cdot \\gamma_{v}}\\right]^{1.3}}$ (m$^3$/s/m) <br><br>\n",
    "where, $q$ is overtopping discharge, $R_c$ is crest freeboard, $H_{m0} = 4\\cdot\\sqrt{m_0}$ is the zeroth moment wave height (estimation to significant wave height).<br><br>\n",
    "$\\xi_{m-1,0} = \\dfrac{\\tan{(\\alpha)}}{\\sqrt{H_{m0}/L_{m-1,0}}}$<br><br>\n",
    "$L_{m-1,0} = \\dfrac{g\\cdot T^2_{m-1,0}}{2\\pi}$<br><br>\n",
    "where, $\\xi_{m-1,0}$ is the breaking parameter, $\\gamma_f$ is the roughtness coefficient, <br>$\\gamma_{\\beta}$ is the oblique wave-attack factor with $\\beta$ is the angle of wave direction with the shoreline: \n",
    "* $\\gamma_{\\beta} = 1-0.0033\\cdot \\beta$ for $0^o \\leq \\beta \\leq 80^o$ \n",
    "* $\\gamma_{\\beta} = 0.736$ for $\\beta > 80$) <br>\n",
    "\n",
    "$\\gamma_v$ is the influence factor from vetical wall that calculated as $1.35 - 0.0078\\cdot \\alpha_{wall}$ with $\\alpha_{wall}$ is the slope of the wall, normally is 90$^o$ for vertical wall, <br>\n",
    "and $T_{m-1,0} = 0.9\\cdot T_p$ where $T_p$ is peak wave period<br><br>\n",
    "The maximum of overtopping discharge is:<br><br>\n",
    "$\\dfrac{q}{\\sqrt{g\\cdot H^3_{m0}}} = 0.1035 \\cdot e^{-\\left[\\dfrac{1.35\\cdot R_c}{H_{m0}\\cdot\\xi_{m-1,0}\\cdot \\gamma_b\\cdot \\gamma_f\\cdot \\gamma_{\\beta}\\cdot \\gamma_{v}}\\right]^{1.3}}$ (m$^3$/s/m) <br><br>"
   ]
  },
  {
   "cell_type": "markdown",
   "id": "8e069179-5b48-425d-bcb2-2895991ca489",
   "metadata": {},
   "source": [
    "# <b id=\"section2\"> 2. References</b>\n",
    "\n",
    "Chapter 17: Water, waves, run-up and overtopping [(Manual Hydraulic Structure, 2021)](https://repository.tudelft.nl/islandora/object/uuid%3Af4ce82e2-8856-4a8d-98d5-47c0ff34c2bb)"
   ]
  },
  {
   "cell_type": "markdown",
   "id": "2d640cdf-6f28-48a1-bbf3-215e0e238858",
   "metadata": {},
   "source": [
    "# <b id=\"section3\"> 3. Applicability</b>\n",
    "\n",
    "This method applies for:\n",
    "* Wave overtopping\n",
    "* Deterministic calculation for the design of the material protection at the inner slope"
   ]
  },
  {
   "cell_type": "markdown",
   "id": "dd005d94-d87b-419b-be3c-e016e24baba3",
   "metadata": {},
   "source": [
    "# <b id=\"section4\"> 4. Examples</b>\n"
   ]
  },
  {
   "cell_type": "markdown",
   "id": "6adf7e51-96aa-45e3-aa6c-5aa3461d52e7",
   "metadata": {},
   "source": [
    "The simple scenarios for this method is to consider a sea dike with a slope constructed with a material with steepness of $1:m$, no berm, a crest height $R_c$, and no vertical wall on top of the slope. Waves attack the dike (shore) with a height of $H_s$ and a peak period of $T_p$ with an angle of $\\beta$. It is hypothesized that waves propagates from the deep water. The next section will present calculations for wave overtopping in this method. <br><br>\n",
    "The table below shows the parameters used in calculation (code) corresponding to the example. It is recommend for users to run the calculation code before plotting results.\n",
    "\n",
    "| Parameter             | Units  | Variable code |\n",
    "|-----------------------|:------:|---------------|\n",
    "| Wave height ($H_s$)   | m      | wave_height   |\n",
    "| Wave period ($T_p$)   | s      | wave_period   |\n",
    "| Wave angle  ($\\beta$) | $^0$   | wave_angle    |\n",
    "| Slope of dike ($m$)   | -      | dike_slope    |\n",
    "| Slope roughness       | -      | roughness     |\n",
    "| Crest height $R_c$    | m      | crest_height  |\n",
    "\n",
    "The figure below shows the sketch of overtopping on a scros-shore profile of a dike: <br>\n",
    "<img src=\"https://raw.githubusercontent.com/HoangTungDao/hydraulic-structure-1/main/HS_Notebooks_Figures/Overtopping_Sketch_example.png\" width=\"800\"/> "
   ]
  },
  {
   "cell_type": "markdown",
   "id": "0e087e92-bb3f-4153-9fd6-b3205333ae20",
   "metadata": {},
   "source": [
    "# <b id=\"section5\"> 5. Results</b>"
   ]
  },
  {
   "cell_type": "markdown",
   "id": "86e3a436-d12a-40f7-8518-226406ca22e6",
   "metadata": {},
   "source": [
    "## <b id=\"section5\"> 5.1 Calculation code</b>"
   ]
  },
  {
   "cell_type": "code",
   "execution_count": 1,
   "id": "ced70697-25c9-4f5f-b0cf-5860c4090a55",
   "metadata": {},
   "outputs": [],
   "source": [
    "#%cd \\Users\\daoho\\Downloads\\Jupyter_notebooks\\HydraulicStructure_Notebooks\\Examples\n",
    "from ipywidgets import interact\n",
    "import ipywidgets as widgets\n",
    "%matplotlib inline\n",
    "import numpy as np\n",
    "import matplotlib.pyplot as plt\n",
    "plt.rcParams.update({'font.size':13}) # Use for all plots\n",
    "from def_wave_overtopping import wave_overtopping"
   ]
  },
  {
   "cell_type": "code",
   "execution_count": 7,
   "id": "205a39ec-7188-4cc7-b0d2-ef350e58c872",
   "metadata": {},
   "outputs": [],
   "source": [
    "# Getting package from Github / Make a clone inside Colab\n",
    "#%cd /content/\n",
    "#!git clone https://github.com/HoangTungDao/hydraulic-structure-1.git\n",
    "#%cd /content/hydraulic-structure-1\n",
    "#from def_wave_overtopping import wave_overtopping\n"
   ]
  },
  {
   "cell_type": "markdown",
   "id": "d5b79742-3e13-41f2-b043-06f916e07963",
   "metadata": {},
   "source": [
    "## <b id=\"section5\"> 5.2 Wave overtopping</b>"
   ]
  },
  {
   "cell_type": "markdown",
   "id": "d4c0077a-d855-4247-9265-4d983149dd68",
   "metadata": {},
   "source": [
    "From here, users can change input values by using sliders mode (by running the below cell). Input variables are already indicated in the variable table in Section 4. User can also change the range of each variable values depending on user's purposes."
   ]
  },
  {
   "cell_type": "code",
   "execution_count": 38,
   "id": "384a1080-5c61-47f4-a978-078f26983d77",
   "metadata": {},
   "outputs": [
    {
     "data": {
      "application/vnd.jupyter.widget-view+json": {
       "model_id": "24395dc3de3041a682f6bbfceb01f0b1",
       "version_major": 2,
       "version_minor": 0
      },
      "text/plain": [
       "interactive(children=(FloatSlider(value=9.7, description='wave_period', max=15.0, min=4.5), FloatSlider(value=…"
      ]
     },
     "metadata": {},
     "output_type": "display_data"
    }
   ],
   "source": [
    "@interact(wave_period=(4.5, 15, 0.1),\n",
    "          wave_height=(1, 5, 0.1),\n",
    "          wave_angle=(0, 90, 5),\n",
    "          dike_slope=(1, 10, 0.1),\n",
    "          roughness=(0.0, 1.0, 0.1),\n",
    "          crest_height=(0.1, 3, 0.1),\n",
    "          add_crest=(0, 3, 0.1),\n",
    "          berm=(0.0, 1.0, 1),\n",
    "          wall=(0.0, 1.0, 1))\n",
    "def double_number(wave_period, wave_height, wave_angle, dike_slope, roughness, \n",
    "                     crest_height, add_crest, berm, wall):\n",
    "    wave_overtopping(wave_period, wave_height, wave_angle, dike_slope, roughness, \n",
    "                     crest_height, add_crest, berm, wall)"
   ]
  }
 ],
 "metadata": {
  "kernelspec": {
   "display_name": "Python 3 (ipykernel)",
   "language": "python",
   "name": "python3"
  },
  "language_info": {
   "codemirror_mode": {
    "name": "ipython",
    "version": 3
   },
   "file_extension": ".py",
   "mimetype": "text/x-python",
   "name": "python",
   "nbconvert_exporter": "python",
   "pygments_lexer": "ipython3",
   "version": "3.9.7"
  }
 },
 "nbformat": 4,
 "nbformat_minor": 5
}

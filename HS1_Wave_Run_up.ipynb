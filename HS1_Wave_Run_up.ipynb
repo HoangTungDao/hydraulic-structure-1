{
 "cells": [
  {
   "cell_type": "markdown",
   "id": "e50ee366-5e0d-4605-99ad-ff9fae7a9880",
   "metadata": {
    "id": "TXa5Wz7z2ZaF",
    "tags": []
   },
   "source": [
    "# <b id=\"section0\"> Wave Run-up</b>\n",
    "---\n",
    "[1. Context](#section2.1) <br>\n",
    "[2. References](#section2.2) <br>\n",
    "[3. Applicability](#section2.3) <br>\n",
    "[4. Example](#section2.4) <br>\n",
    "[5. Results](#section2.5) <br>"
   ]
  },
  {
   "cell_type": "markdown",
   "id": "a791e9b1-68b3-4084-a1b1-21eb5111b742",
   "metadata": {},
   "source": [
    "# <b id=\"section1\"> 1. Context</b>"
   ]
  },
  {
   "cell_type": "markdown",
   "id": "56e0cf13-2e63-4b5c-9ea3-a9a56cb64517",
   "metadata": {},
   "source": [
    "For the design of slanting structures (a slope or a wall) it is important to know how far a wave can run up the slope, or how much water can go over the structure. In the first place, this depends on the average water level (= highest astronomical tide + storm set-up, or the highest river level during a peak discharge) and in the second place on the height of the waves attacking the structure. <br><br>\n",
    "These phenomena play a role in determining the crest height of flood defences and the top of structure level of other hydraulic structures. The 2%-run-up calculation for the determination of dike heights was used in the Netherlands and Germany until the end of the twentieth century, but has been replaced by the more universal calculation of critical overtopping discharges.<br><br>\n",
    "The wave run-up depends on:\n",
    "* The wave field\n",
    "* The geometry of the flood defence\n",
    "* The roughness of the slope surface\n",
    "1. Old Delft Formula<br>\n",
    "As a rule of thumb, the following \"old Delft formula\" could be used to calculate the run-up height (sometimes called the 'crest freeboard') related to an acceptable amount of run-up on dikes:<br><br>\n",
    "$R_{2\\%} = 8\\cdot H_s\\cdot \\tan(\\alpha)$ <br><br>\n",
    "where: $R_{2\\%}$ (m) is the value of run-up exceeded by 2% of waves; $H_s$ is the significant wave height, and $\\alpha$ is the angle of the outer dike slope with the horizontal. <br><br>\n",
    "The \"old Delft formula\" is valid for the Dutch coast under storm conditions and two other conditions:\n",
    "* Relatively gentle slope (1:3)\n",
    "* \"Normal\" wave steepness (from 4% to 5%)<br><br>\n",
    "2. CUR-TAW Equation<br>\n",
    "Using the CUR-TAW equation (which includes more site-specific characteristics) the run-up is equal to:<br><br>\n",
    "$R_{2\\%} = 1.75\\cdot H_s\\cdot \\gamma_f\\cdot \\gamma_b\\cdot \\gamma_{\\beta}\\cdot \\xi_b$ <br><br>\n",
    "where $\\gamma_f$ is the roughtness coefficient, $\\gamma_b$ is the berm influence factor, <br>$\\gamma_{\\beta}$ is the oblique wave-attack factor with $\\beta$ is the angle of wave direction with the shoreline ($\\gamma_{\\beta} = 1-0.0022\\cdot \\beta$ for $0^o \\leq \\beta \\leq 80^o$ and $\\gamma_{\\beta} = 0.824$  for $\\beta > 80$), <br>and $\\xi_b$ is the breaking parameter that can be yielded as:<br><br>\n",
    "$\\xi_b = \\dfrac{\\tan{\\alpha}}{\\sqrt{H_s/L}}$<br><br>\n",
    "where: \n",
    "$L = \\dfrac{g\\cdot T^2}{2\\pi}$\n",
    "and $T$ is wave period calculated as $T_{m-1,0}$. In general, $T_{m-1,0} = 0.9\\cdot T_p$.\n",
    "\n"
   ]
  },
  {
   "cell_type": "markdown",
   "id": "4c2151c5-0baf-42ee-a183-7b6c9a659d91",
   "metadata": {},
   "source": [
    "# <b id=\"section2\"> 2. References</b>\n",
    "\n",
    "Chapter 17: Water, waves, run-up and overtopping [(Manual Hydraulic Structure, 2021)](https://repository.tudelft.nl/islandora/object/uuid%3Af4ce82e2-8856-4a8d-98d5-47c0ff34c2bb)\n"
   ]
  },
  {
   "cell_type": "markdown",
   "id": "57968c7e-36f0-4549-a524-a9fb9914042a",
   "metadata": {},
   "source": [
    "# <b id=\"section3\"> 3. Applicability</b>\n",
    "\n",
    "This method applies to calculate wave run-up followed by two methods:\n",
    "* Wave run-up by \"Old Delft\" formula\n",
    "* Wave run-up by CUR-TAW equations"
   ]
  },
  {
   "cell_type": "markdown",
   "id": "c2572e2f-cac7-47f0-aa5c-ce7645194e34",
   "metadata": {},
   "source": [
    "# <b id=\"section4\"> 4. Examples</b>\n"
   ]
  },
  {
   "cell_type": "markdown",
   "id": "2be1492f-1211-46a0-9e5d-c57a6392860a",
   "metadata": {},
   "source": [
    "The simple scenarios for this method is to consider a sea dike with a slope constructed with gabions with steepness of $1:m$ and no berm. Waves attack the dike (shore) with a height of $H_s$ and a peak period of $T_p$ with an angle of $\\beta$. It is hypothesized that waves propagates from the deep water. The next section will present calculations for wave run-up in both methods. <br><br>\n",
    "The figure below shows the sketch of wave run-up on a scros-shore profile of a dike: <br>\n",
    "<img src=\"https://raw.githubusercontent.com/HoangTungDao/hydraulic-structure-1/main/HS_Notebooks_Figures/RunUp2_Sketch.png\" width=\"600\"/> \n",
    "\n",
    "The table below shows the parameters used in calculation (code) corresponding to the example. It is recommend for users to run the calculation code before plotting results.\n",
    "\n",
    "| Parameter             | Units  | Variable code |\n",
    "|-----------------------|:------:|---------------|\n",
    "| Wave height ($H_s$)   | m      | wave_height   |\n",
    "| Wave period ($T_p$)   | s      | wave_period   |\n",
    "| Wave angle  ($\\beta$) | $^0$   | wave_angle    |\n",
    "| slope of dike ($m$)   | -      | dike_slope    |\n",
    "| slope roughness       | -      | roughness     |"
   ]
  },
  {
   "cell_type": "markdown",
   "id": "ed9451c5-ca59-4614-b106-b2f1e22c13f8",
   "metadata": {},
   "source": [
    "# <b id=\"section5\"> 5. Results</b>\n"
   ]
  },
  {
   "cell_type": "markdown",
   "id": "19284989-03a4-4194-ad0f-63e436b76a47",
   "metadata": {},
   "source": [
    "## <b id=\"section5\"> 5.1 Calculation code</b>"
   ]
  },
  {
   "cell_type": "code",
   "execution_count": 1,
   "id": "ced70697-25c9-4f5f-b0cf-5860c4090a55",
   "metadata": {},
   "outputs": [],
   "source": [
    "#%cd \\Users\\daoho\\Downloads\\Jupyter_notebooks\\HydraulicStructure_Notebooks\\Examples\n",
    "from ipywidgets import interact\n",
    "import ipywidgets as widgets\n",
    "%matplotlib inline\n",
    "import numpy as np\n",
    "import matplotlib.pyplot as plt\n",
    "plt.rcParams.update({'font.size':13}) # Use for all plots\n",
    "from def_wave_run_up import wrun_up_old\n",
    "from def_wave_run_up import wrun_up_curtaw"
   ]
  },
  {
   "cell_type": "code",
   "execution_count": null,
   "id": "205a39ec-7188-4cc7-b0d2-ef350e58c872",
   "metadata": {},
   "outputs": [],
   "source": [
    "# Getting package from Github / Make a clone inside Colab\n",
    "#%cd /content/\n",
    "#!git clone https://github.com/HoangTungDao/hydraulic-structure-1.git\n",
    "#%cd /content/hydraulic-structure-1\n",
    "#from def_wave_run_up import wrun_up_old\n",
    "#from def_wave_run_up import wrun_up_curtaw"
   ]
  },
  {
   "cell_type": "markdown",
   "id": "ee905e0c-fce7-452a-a7a9-902454506118",
   "metadata": {},
   "source": [
    "## <b id=\"section5.2\"> 5.2 \"Old Delft\" Formula</b>"
   ]
  },
  {
   "cell_type": "code",
   "execution_count": 2,
   "id": "7fa7c671-8f69-4c4a-946c-eb8acfdbfc24",
   "metadata": {},
   "outputs": [
    {
     "data": {
      "application/vnd.jupyter.widget-view+json": {
       "model_id": "c652568eaf3a47c1b48f4ee911acd9e3",
       "version_major": 2,
       "version_minor": 0
      },
      "text/plain": [
       "interactive(children=(FloatSlider(value=7.2, description='wave_period', max=10.0, min=4.5), FloatSlider(value=…"
      ]
     },
     "metadata": {},
     "output_type": "display_data"
    }
   ],
   "source": [
    "# Old Delft Formula\n",
    "@interact(wave_period=(4.5, 10, 0.1),\n",
    "          wave_height=(1, 5, 0.1), \n",
    "          dike_slope=(1, 50, 1))\n",
    "def double_number(wave_period, wave_height, dike_slope):\n",
    "    wrun_up_old(wave_period, wave_height, dike_slope)"
   ]
  },
  {
   "cell_type": "markdown",
   "id": "eb5bd9da-7a82-44c8-ac4f-c8c3d6b33621",
   "metadata": {},
   "source": [
    "## <b id=\"section5.3\"> 5.3 CUR-TAW Equation</b>"
   ]
  },
  {
   "cell_type": "code",
   "execution_count": 3,
   "id": "2c8eb13b-9892-414d-aa20-cb7de1a66e06",
   "metadata": {},
   "outputs": [
    {
     "data": {
      "application/vnd.jupyter.widget-view+json": {
       "model_id": "4529fbcab31d404c89d1629b37795408",
       "version_major": 2,
       "version_minor": 0
      },
      "text/plain": [
       "interactive(children=(FloatSlider(value=9.7, description='wave_period', max=15.0, min=4.5), FloatSlider(value=…"
      ]
     },
     "metadata": {},
     "output_type": "display_data"
    }
   ],
   "source": [
    "# CUR-TAW Equation\n",
    "@interact(wave_period=(4.5, 15, 0.1), \n",
    "          wave_height=(1, 5, 0.1), \n",
    "          wave_angle=(0, 90, 5), \n",
    "          dike_slope=(1, 50, 1), \n",
    "          roughness=(0.0, 1.0, 0.1), \n",
    "          berm=(0.0, 1.0, 1))\n",
    "\n",
    "def double_number(wave_period, wave_height, wave_angle,\n",
    "                  dike_slope, roughness, berm):\n",
    "    wrun_up_curtaw(wave_period, wave_height, wave_angle,\n",
    "                   dike_slope, roughness, berm)"
   ]
  }
 ],
 "metadata": {
  "kernelspec": {
   "display_name": "Python 3 (ipykernel)",
   "language": "python",
   "name": "python3"
  },
  "language_info": {
   "codemirror_mode": {
    "name": "ipython",
    "version": 3
   },
   "file_extension": ".py",
   "mimetype": "text/x-python",
   "name": "python",
   "nbconvert_exporter": "python",
   "pygments_lexer": "ipython3",
   "version": "3.9.7"
  }
 },
 "nbformat": 4,
 "nbformat_minor": 5
}

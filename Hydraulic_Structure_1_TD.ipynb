{
 "cells": [
  {
   "cell_type": "markdown",
   "id": "e50ee366-5e0d-4605-99ad-ff9fae7a9880",
   "metadata": {
    "id": "TXa5Wz7z2ZaF",
    "tags": []
   },
   "source": [
    "# <b id=\"section0\"> Table of contents</b>\n",
    "---\n",
    "[**1. Introduction**](#section1) <br>\n",
    "[**2. Wave Run-up**](#section2) <br>\n",
    "    [2.2 Context](#section2.1) <br>\n",
    "    [2.2 References](#section2.2) <br>\n",
    "    [2.3 Applicability](#section2.3) <br>\n",
    "    [2.4 Example](#section2.4) <br>\n",
    "    [2.5 Results](#section2.5) <br>\n",
    "[**3. Wave Overtopping**](#section3) <br>\n",
    "    [3.2 Context](#section3.1) <br>\n",
    "    [3.2 References](#section3.2) <br>\n",
    "    [3.3 Applicability](#section3.3) <br>\n",
    "    [3.4 Example](#section3.4) <br>\n",
    "    [3.5 Results](#section3.5) <br>"
   ]
  },
  {
   "cell_type": "markdown",
   "id": "a97c84a1-46f2-454a-9c23-02d9bceaf695",
   "metadata": {},
   "source": [
    "# <b id=\"section1\"> 1. Introduction</b>"
   ]
  },
  {
   "cell_type": "markdown",
   "id": "2a507fb1-318c-436e-9ced-0ddb3e1646f2",
   "metadata": {},
   "source": [
    "For the design of slanting structures (a slope or a wall) it is important to know how far a wave can run up the slope, or how much water can go over the structure. In the first place, this depends on the average water level (= highest astronomical tide + storm set-up, or the highest river level during a peak discharge) and in the second place on the height of the waves attacking the structure. <br><br>\n",
    "In this notebook, two phenomena will be presented: <br>\n",
    "1 - Wave run-up <br>\n",
    "2 - Wave overtopping <br><br>\n",
    "These phenomena play a role in determining the crest height of flood defences and the top of structure level of other hydraulic structures. The 2%-run-up calculation for the determination of dike heights was used in the Netherlands and Germany until the end of the twentieth century, but has been replaced by the more universal calculation of critical overtopping discharges."
   ]
  },
  {
   "cell_type": "markdown",
   "id": "f27d9d18-89b6-4af0-8489-98e61e70295f",
   "metadata": {},
   "source": [
    "## <b id=\"section1.1\"> Notebook packages</b>"
   ]
  },
  {
   "cell_type": "code",
   "execution_count": 1,
   "id": "ced70697-25c9-4f5f-b0cf-5860c4090a55",
   "metadata": {},
   "outputs": [],
   "source": [
    "#%cd \\Users\\daoho\\Downloads\\Jupyter_notebooks\\HydraulicStructure_Notebooks\\Examples\n",
    "from ipywidgets import interact\n",
    "import ipywidgets as widgets\n",
    "%matplotlib inline\n",
    "import numpy as np\n",
    "import matplotlib.pyplot as plt\n",
    "plt.rcParams.update({'font.size':13}) # Use for all plots\n",
    "from wave_run_up_overtopping import wrun_up_old\n",
    "from wave_run_up_overtopping import wrun_up_curtaw\n",
    "from wave_run_up_overtopping import wave_overtopping"
   ]
  },
  {
   "cell_type": "markdown",
   "id": "921cb666-0ec3-4bb4-a5b9-1b1527cf37cc",
   "metadata": {},
   "source": [
    "# <b id=\"section2\"> 2. Wave Run-up</b>\n",
    "---"
   ]
  },
  {
   "cell_type": "markdown",
   "id": "a791e9b1-68b3-4084-a1b1-21eb5111b742",
   "metadata": {},
   "source": [
    "## <b id=\"section2.1\"> 2.1 Context</b>\n",
    "---"
   ]
  },
  {
   "cell_type": "markdown",
   "id": "56e0cf13-2e63-4b5c-9ea3-a9a56cb64517",
   "metadata": {},
   "source": [
    "The figure below shows the sketch of wave run-up on a scros-shore profile of a dike: <br>\n",
    "<img src=\"https://raw.githubusercontent.com/HoangTungDao/hydraulic-structure-1/main/RunUp2_Sketch.png\" width=\"600\"/> \n",
    "\n",
    "\n",
    "The wave run-up depends on:\n",
    "* The wave field\n",
    "* The geometry of the flood defence\n",
    "* The roughness of the slope surface\n",
    "\n",
    "As a rule of thumb, the following \"old Delft formula\" could be used to calculate the run-up height (sometimes called the 'crest freeboard') related to an acceptable amount of run-up on dikes:<br><br>\n",
    "$R_{2\\%} = 8 H_s tan(\\alpha)$ <br><br>\n",
    "where: $R_{2\\%}$ (m) is the value of run-up exceeded by 2% of waves; $H_s$ is the significant wave height, and $\\alpha$ is the angle of the outer dike slope with the horizontal. <br><br>\n",
    "The \"old Delft formula\" is valid for the Dutch coast under storm conditions and two other conditions:\n",
    "* Relatively gentle slope (1:3)\n",
    "* \"Normal\" wave steepness (from 4% to 5%)\n",
    "\n",
    "Using the CUR-TAW equation (which includes more site-specific characteristics) the run-up is equal to:<br><br>\n",
    "$R_{2\\%} = 1.75 H_s \\gamma_f \\gamma_b \\gamma_{\\beta} \\xi_b$ <br><br>\n",
    "where $\\gamma_f$ is the roughtness coefficient, $\\gamma_b$ is the berm influence factor, <br>$\\gamma_{\\beta}$ is the oblique wave-attack factor with $\\beta$ is the angle of wave direction with the shoreline ($\\gamma_{\\beta} = 1-0.0022\\beta$ for $0^o \\leq \\beta \\leq 80^o$ and $\\gamma_{\\beta} = 0.824$), <br>and $\\xi_b$ is the breaking parameter that can be yielded as:<br><br>\n",
    "$\\xi_b = \\frac{tan{\\alpha}}{\\sqrt{H_s/L}}$<br><br>\n",
    "where: \n",
    "$L = \\frac{gT^2}{2\\pi}$\n",
    "and $T$ is wave period calculated as $T_{m-1,0}$. In general, $T_{m-1,0} = 0.9 T_p$.\n",
    "\n"
   ]
  },
  {
   "cell_type": "markdown",
   "id": "4c2151c5-0baf-42ee-a183-7b6c9a659d91",
   "metadata": {},
   "source": [
    "## <b id=\"section2.2\"> 2.2 References</b>\n",
    "---\n",
    "Section 17: Water, waves, run-up and overtopping [(Manual Hydraulic Structure, 2021)](https://repository.tudelft.nl/islandora/object/uuid%3Af4ce82e2-8856-4a8d-98d5-47c0ff34c2bb)\n"
   ]
  },
  {
   "cell_type": "markdown",
   "id": "57968c7e-36f0-4549-a524-a9fb9914042a",
   "metadata": {},
   "source": [
    "## <b id=\"section2.3\"> 2.3 Applicability</b>\n",
    "---"
   ]
  },
  {
   "cell_type": "markdown",
   "id": "c2572e2f-cac7-47f0-aa5c-ce7645194e34",
   "metadata": {},
   "source": [
    "## <b id=\"section2.4\"> 2.4 Calculations</b>\n",
    "---"
   ]
  },
  {
   "cell_type": "code",
   "execution_count": null,
   "id": "7fa7c671-8f69-4c4a-946c-eb8acfdbfc24",
   "metadata": {},
   "outputs": [],
   "source": [
    "# Old Delft Formula\n",
    "@interact(wave_period=(4.5, 10, 0.1), wave_height=(1, 5, 0.1), \n",
    "          dike_slope=(0.0, 1.25, 0.05))\n",
    "def double_number(wave_period, wave_height, dike_slope):\n",
    "    wrun_up_old(wave_period, wave_height, dike_slope)"
   ]
  },
  {
   "cell_type": "code",
   "execution_count": null,
   "id": "2c8eb13b-9892-414d-aa20-cb7de1a66e06",
   "metadata": {},
   "outputs": [],
   "source": [
    "# CUR-TAW Equation\n",
    "@interact(wave_period=(4.5, 15, 0.1), wave_height=(1, 5, 0.1), \n",
    "          dike_slope=(0.0, 1.6, 0.01), wave_angle=(0, 80, 5))\n",
    "def double_number(wave_period, wave_height, dike_slope, wave_angle):\n",
    "    wrun_up_curtaw(wave_period, wave_height, dike_slope, wave_angle)"
   ]
  },
  {
   "cell_type": "markdown",
   "id": "2ddef0cc-0ef3-462f-bedd-865c34d1a42e",
   "metadata": {},
   "source": [
    "# <b id=\"section3\"> 3. Overtopping</b>\n",
    "---"
   ]
  },
  {
   "cell_type": "markdown",
   "id": "7ffae429-1e8c-4a0d-94ef-14a71813dca4",
   "metadata": {},
   "source": [
    "## <b id=\"section3.1\"> 3.1 Context</b>\n",
    "---"
   ]
  },
  {
   "cell_type": "markdown",
   "id": "67c5dbf9-7c09-428d-97e0-a6a2efe133b7",
   "metadata": {},
   "source": [
    "Overtopping waves can jeopardise a civil engineering work if they cause erosion or softening of the foundations. Wave overtopping can also cause a nuisance for the surroundings. To prevent severe wave\n",
    "overtopping, the design of the structure should therefore include a sufficient freeboard above the design water level. <br><br>\n",
    "For wave overtopping considerations, the wave run-up **R$_n$** simply exceeds the crest height z. The wave overtopping is usually characterised by an overtopping discharge **q** per metre of the water defence, averaged over time. This discharge depends on the wave height, the wave steepness, the slope and the existing freeboard. This concerns overtopping discharges averaged over time. In reality, a far larger discharge can occur for a short time, depending on the percentage of overtopping waves. With the results of several investigations, a global relationship between all of these factors can be derived. <br><br>\n",
    "Overtopping of structures with a slope can be calculated as:<br><br>\n",
    "$q = A \\times e^{[\\frac{-b R_c}{H_{m0}}]} \\times \\sqrt{gH^3_{m0}}$ (m$^3$/s/m) <br><br>\n",
    "where, $q$ is overtopping discharge, $R_c$ is crest freeboard, $H_m0$ is the zeroth moment wave height that can be calculated as $4\\sqrt{m_0}$ (estimation to significant wave height). The parameter $A$ and $B$ are shown as:<br><br>\n",
    "$A = \\frac{0.067}{\\sqrt{tan{(\\alpha)}}} \\gamma_b \\xi_{m-1,0}$ <br><br>\n",
    "$B = \\frac{4.3}{\\xi_{m-1,0} \\gamma_b \\gamma_f \\gamma_{\\beta} \\gamma_{v}}$<br><br>\n",
    "$\\xi_{m-1,0} = \\frac{tan{(\\alpha)}}{\\sqrt{H_{m0}/L_{m-1,0}}}$<br><br>\n",
    "$L_{m-1,0} = \\frac{gT^2_{m-1,0}}{2\\pi}$<br><br>\n",
    "where, $\\xi_{m-1,0}$ is the breaking parameter, $\\gamma_f$ is the roughtness coefficient, <br>$\\gamma_{\\beta}$ is the oblique wave-attack factor with $\\beta$ is the angle of wave direction with the shoreline ($\\gamma_{\\beta} = 1-0.0033\\beta$ for $0^o \\leq \\beta \\leq 80^o$ and $\\gamma_{\\beta} = 0.736$), <br>and $\\gamma_v$ is the influence factor from vetical wall that calculated as $1.35 - 0.0078\\alpha_{wall}$ with $\\alpha_{wall}$ is the slope of the wall, normally is 90$^o$ for vertical wall. <br><br>\n",
    "The figure below shows the sketch of overtopping on a scros-shore profile of a dike: <br>\n",
    "<img src=\"https://www.mdpi.com/jmse/jmse-08-00570/article_deploy/html/images/jmse-08-00570-g001.png\" width=\"800\"/> "
   ]
  },
  {
   "cell_type": "markdown",
   "id": "8e069179-5b48-425d-bcb2-2895991ca489",
   "metadata": {},
   "source": [
    "## <b id=\"section3.2\"> 3.2 References</b>\n",
    "---\n",
    "Section 17: Water, waves, run-up and overtopping [(Manual Hydraulic Structure, 2021)](https://repository.tudelft.nl/islandora/object/uuid%3Af4ce82e2-8856-4a8d-98d5-47c0ff34c2bb)"
   ]
  },
  {
   "cell_type": "markdown",
   "id": "2d640cdf-6f28-48a1-bbf3-215e0e238858",
   "metadata": {},
   "source": [
    "## <b id=\"section3.3\"> 3.3 Applicability</b>\n",
    "---"
   ]
  },
  {
   "cell_type": "markdown",
   "id": "dd005d94-d87b-419b-be3c-e016e24baba3",
   "metadata": {},
   "source": [
    "## <b id=\"section3.4\"> 3.4 Calculations</b>\n",
    "---"
   ]
  },
  {
   "cell_type": "code",
   "execution_count": null,
   "id": "384a1080-5c61-47f4-a978-078f26983d77",
   "metadata": {},
   "outputs": [],
   "source": [
    "# CUR-TAW Equation\n",
    "@interact(wave_period=(4.5, 15, 0.1), wave_height=(1, 5, 0.1), \n",
    "          dike_slope=(0.0, 1.6, 0.01), wave_angle=(0, 80, 5),\n",
    "          crest_fboard=(0, 3, 0.1), add_crest=(0, 3, 0.1))\n",
    "def double_number(wave_period, wave_height, dike_slope, wave_angle, \n",
    "                  crest_fboard, add_crest):\n",
    "    wave_overtopping(wave_period, wave_height, dike_slope, wave_angle, \n",
    "                     crest_fboard, add_crest)"
   ]
  }
 ],
 "metadata": {
  "kernelspec": {
   "display_name": "Python 3 (ipykernel)",
   "language": "python",
   "name": "python3"
  },
  "language_info": {
   "codemirror_mode": {
    "name": "ipython",
    "version": 3
   },
   "file_extension": ".py",
   "mimetype": "text/x-python",
   "name": "python",
   "nbconvert_exporter": "python",
   "pygments_lexer": "ipython3",
   "version": "3.9.7"
  }
 },
 "nbformat": 4,
 "nbformat_minor": 5
}
